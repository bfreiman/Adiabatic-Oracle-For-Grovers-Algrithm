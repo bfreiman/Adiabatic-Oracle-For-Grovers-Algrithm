{
 "cells": [
  {
   "cell_type": "markdown",
   "id": "ae05c8b6",
   "metadata": {},
   "source": [
    "<p style=\"text-align: center;\">\n",
    "<font size=\"5\">\n",
    "A Simulation of the Adiabatic Oracle Described in \"Bin Yan, & Nikolai A. Sinitsyn. (2023). An adiabatic oracle for Grover's algorithm.\"\n",
    "<br>\n",
    "<br>\n",
    "By Ben Freiman\n",
    "<br>\n",
    "<p style=\"text-align: left;\">\n",
    "<font size=\"3\">\n",
    "This is still a work in progress\n"
   ]
  },
  {
   "cell_type": "code",
   "execution_count": 4,
   "id": "4960e770",
   "metadata": {},
   "outputs": [],
   "source": [
    "import numpy as np\n",
    "import qiskit\n",
    "from qiskit import *\n",
    "import matplotlib as mpl"
   ]
  },
  {
   "cell_type": "code",
   "execution_count": 5,
   "id": "1c52caef",
   "metadata": {},
   "outputs": [
    {
     "data": {
      "image/png": "[encoded data removed]",
      "text/plain": [
       "<Figure size 1708.89x367.889 with 1 Axes>"
      ]
     },
     "execution_count": 5,
     "metadata": {},
     "output_type": "execute_result"
    }
   ],
   "source": [
    "def ising_generator(A,dt,num_qbits) -> qiskit.circuit.Gate:\n",
    "    ising = QuantumCircuit(num_qbits,name='A')\n",
    "    for j in range(num_qbits-2,num_qbits,1):\n",
    "        ising.rz(A*np.pi*dt,j)\n",
    "        for i in range(num_qbits-2):\n",
    "            ising.rzz(A*np.pi*dt,i,j)\n",
    "    ising.to_gate()\n",
    "    return ising\n",
    "\n",
    "def sigma_x(B,dt) -> qiskit.circuit.Gate:\n",
    "    sig_x = QuantumCircuit(1,name='B')\n",
    "    sig_x.rx(B*np.pi*2*dt,0)\n",
    "    sig_x.to_gate()\n",
    "    return sig_x\n",
    "\n",
    "def evolution_generator(A,B,dt,num_qbits) -> qiskit.circuit.Gate:\n",
    "    evoloution_operator = QuantumCircuit(num_qbits,name='ABA')\n",
    "    \n",
    "    evoloution_operator.append(ising_generator(A,dt,num_qbits),range(num_qbits))\n",
    "    \n",
    "     #Term attached to B(t)\n",
    "    evoloution_operator.append(sigma_x(B,dt),[num_qbits-2])\n",
    "    evoloution_operator.append(sigma_x(B,dt),[num_qbits-1])\n",
    "    \n",
    "    #Term attached to A(t)\n",
    "    evoloution_operator.append(ising_generator(A,dt,num_qbits),range(num_qbits))\n",
    "    return evoloution_operator\n",
    "def grovers_circuit_initializatoin(num_qbits,lower_energy_states) -> qiskit.circuit:\n",
    "    backend = Aer.get_backend('statevector_simulator')\n",
    "    circ = QuantumCircuit(num_qbits,num_qbits)\n",
    "\n",
    "    #Prepare the lower_energy_states in a superposition |0> + |1>\n",
    "    initial_state = [1,0]\n",
    "    for i in lower_energy_states:\n",
    "        circ.initialize(initial_state, i)\n",
    "        circ.h(i)\n",
    "    #Project ancillary qbits to the x+- states\n",
    "    circ.h(num_qbits-2) #Hadamard Gate\n",
    "    #0->1 state for 3rd qbit\n",
    "    initial_state = [0,1]\n",
    "    circ.initialize(initial_state, num_qbits-1)\n",
    "    circ.h(num_qbits-1) #Hadamard Gate\n",
    "    return circ\n",
    "\n",
    "def grovers_circuit_execution(circ,lower_energy_states) -> qiskit.circuit:\n",
    "    T = 150 #Total Time\n",
    "    n = 2000 #Iterations\n",
    "    dt = T/n\n",
    "    for t in range(n+1):\n",
    "        A = 1-t/T\n",
    "        B = t/T\n",
    "\n",
    "        #Term attached to A(t)\n",
    "        evo_op = evolution_generator(A,B,dt,num_qbits)\n",
    "        if (t ==10):\n",
    "            evo_op.decompose().draw('mpl')\n",
    "        circ.append(evo_op,range(num_qbits))\n",
    "\n",
    "        if (t == 2000):\n",
    "            break\n",
    "    #Project to the z01 states\n",
    "    circ.h(lower_energy_states)\n",
    "    circ.h(num_qbits-2) #Hadamard Gate\n",
    "    circ.h(num_qbits-1) #Hadamard Gate\n",
    "    return circ\n",
    "\n",
    "#This variation can directly be used in grovers algorithm\n",
    "def grovers_circuit_execution_no_h_gate(circ,lower_energy_states) -> qiskit.circuit:\n",
    "    T = 150 #Total Time\n",
    "    n = 2000 #Iterations\n",
    "    dt = T/n\n",
    "    for t in range(n+1):\n",
    "        A = 1-t/T\n",
    "        B = t/T\n",
    "\n",
    "        #Term attached to A(t)\n",
    "        evo_op = evolution_generator(A,B,dt,num_qbits)\n",
    "        if (t ==10):\n",
    "            evo_op.decompose().draw('mpl')\n",
    "        circ.append(evo_op,range(num_qbits))\n",
    "\n",
    "        if (t == 2000):\n",
    "            break\n",
    "    #Project to the z01 states\n",
    "    circ.h(num_qbits-2) #Hadamard Gate\n",
    "    circ.h(num_qbits-1) #Hadamard Gate\n",
    "    return circ\n",
    "\n",
    "evo_op = evolution_generator(1,1,1,4)\n",
    "evo_op.decompose().draw('mpl')"
   ]
  },
  {
   "cell_type": "markdown",
   "id": "8ea8e09f",
   "metadata": {},
   "source": [
    "## Demonstration of Phase Oracle"
   ]
  },
  {
   "cell_type": "code",
   "execution_count": 16,
   "id": "bcf97a53",
   "metadata": {},
   "outputs": [
    {
     "name": "stdout",
     "output_type": "stream",
     "text": [
      "The percentage of sucessful oracle calls should be ~1/2, this simulation was sucessful on the order of 0.428 of the oracle queries.\n"
     ]
    }
   ],
   "source": [
    "#This is the quanutm circuit with two bits of information\n",
    "num_qbits = 8\n",
    "lower_energy_states = [1,4]\n",
    "\n",
    "grovers_circ = grovers_circuit_initializatoin(num_qbits,lower_energy_states)\n",
    "\n",
    "grovers_circ = grovers_circuit_execution(grovers_circ,lower_energy_states)\n",
    "\n",
    "backend = Aer.get_backend('statevector_simulator')\n",
    "circ = grovers_circ.reverse_bits() #Key to reading the bits from q0->q3 rather than q3->q0\n",
    "circ.measure(range(num_qbits),range(num_qbits))\n",
    "shots = 1000\n",
    "job=execute(circ,backend,shots=1000)\n",
    "result=job.result()\n",
    "result = result.get_counts()\n",
    "count=0\n",
    "for bit_string in result:\n",
    "    if(bit_string[num_qbits-2:num_qbits] == '00' or bit_string[num_qbits-2:num_qbits] == '11'):\n",
    "        count += result[bit_string]\n",
    "print(\"The percentage of sucessful oracle calls should be ~1/2, this simulation was sucessful on the order of\", count/shots, \"of the oracle queries.\")"
   ]
  },
  {
   "cell_type": "markdown",
   "id": "17c426ef",
   "metadata": {},
   "source": [
    "## Phase Oracle Confirmation with Ancillary Qbits"
   ]
  },
  {
   "cell_type": "code",
   "execution_count": 7,
   "id": "f0e470a3",
   "metadata": {},
   "outputs": [
    {
     "name": "stdout",
     "output_type": "stream",
     "text": [
      "{'00000010': 433, '01001011': 187, '01001000': 214, '00001010': 6, '00000001': 129, '01001001': 8, '01000001': 6, '01000011': 1, '00001001': 5, '01000010': 5, '01001010': 5, '01000000': 1}\n",
      "The percentage of sucessful oracle calls should be ~1/2, this simulation was sucessful on the order of 0.403 of the oracle queries.\n"
     ]
    }
   ],
   "source": [
    "#This is the quanutm circuit with two bits of information\n",
    "num_qbits = 8\n",
    "lower_energy_states = [1,4]\n",
    "\n",
    "grovers_circ = grovers_circuit_initializatoin(num_qbits,lower_energy_states)\n",
    "\n",
    "grovers_circ = grovers_circuit_execution(grovers_circ,lower_energy_states)\n",
    "\n",
    "backend = Aer.get_backend('statevector_simulator')\n",
    "circ = grovers_circ.reverse_bits() #Key to reading the bits from q0->q3 rather than q3->q0\n",
    "circ.measure(range(num_qbits),range(num_qbits))\n",
    "shots = 1000\n",
    "job=execute(circ,backend,shots=shots)\n",
    "result=job.result()\n",
    "result = result.get_counts()\n",
    "print(result)\n",
    "count = 0\n",
    "for bit_string in result:\n",
    "    if(bit_string[num_qbits-2:num_qbits] == '00' or bit_string[num_qbits-2:num_qbits] == '11'):\n",
    "        count += result[bit_string]\n",
    "print(\"The percentage of sucessful oracle calls should be ~1/2, this simulation was sucessful on the order of\", count/shots, \"of the oracle queries.\")"
   ]
  },
  {
   "cell_type": "markdown",
   "id": "a8498a9d",
   "metadata": {},
   "source": [
    "## Grovers Algorithm Without Amplification"
   ]
  },
  {
   "cell_type": "code",
   "execution_count": 10,
   "id": "a52b1f56",
   "metadata": {},
   "outputs": [
    {
     "name": "stdout",
     "output_type": "stream",
     "text": [
      "{'010011': 2248, '000010': 3456, '000001': 1702, '010000': 2237, '000000': 3, '010001': 173, '000011': 5, '010010': 176}\n",
      "The percentage of sucessful oracle calls should be ~1/2, this simulation was sucessful on the order of 0.4485 of the oracle queries.\n"
     ]
    }
   ],
   "source": [
    "#This is the quanutm circuit with two bits of information\n",
    "pi = np.pi\n",
    "num_qbits = 6 #4 qbits\n",
    "lower_energy_states = [1]\n",
    "\n",
    "grovers_circ = grovers_circuit_initializatoin(num_qbits,lower_energy_states)\n",
    "\n",
    "grovers_circ = grovers_circuit_execution_no_h_gate(grovers_circ,lower_energy_states)\n",
    "\n",
    "temp_circ = grovers_circ\n",
    "temp_circ.h(lower_energy_states)\n",
    "backend = Aer.get_backend('statevector_simulator')\n",
    "circ = temp_circ.reverse_bits() #Key to reading the bits from q0->q3 rather than q3->q0\n",
    "circ.measure(range(num_qbits),range(num_qbits))\n",
    "shots = 10000\n",
    "job=execute(circ,backend,shots=shots)\n",
    "result=job.result()\n",
    "result = result.get_counts()\n",
    "print(result)\n",
    "count = 0\n",
    "for bit_string in result:\n",
    "    if(bit_string == '010011' or bit_string == '010000'):\n",
    "        count += result[bit_string]\n",
    "print(\"The percentage of sucessful oracle calls should be ~1/2, this simulation was sucessful on the order of\", count/shots, \"of the oracle queries.\")"
   ]
  },
  {
   "cell_type": "markdown",
   "id": "911ea43c",
   "metadata": {},
   "source": [
    "<p style=\"text-align: left;\">\n",
    "<font size=\"2\">\n",
    "Here, we take the final state from above without the haddamard gate applied to the lowered energy states list (qbit 1). We then apply amplitude amplification. The oracle works less than %50 of the time and the second qbit is in a superposiion namely $q1 = \\frac{1}{\\sqrt{2}}(|0\\rangle-|1\\rangle)$. The probability of haveing a sucessful oracle query and measuing the qbit in the $|1\\rangle$ state has an upper bound at $\\frac{1}{4}.$ Here we apply amplitude amplification to see if we can push that upper bound. If we find a probability greator than 1/4, grovers algorithm is sucessful.\n",
    "<br>\n",
    "<br>\n",
    "The code below might need to be run multiple times to see meaningful results.\n"
   ]
  },
  {
   "cell_type": "code",
   "execution_count": 13,
   "id": "af994e22",
   "metadata": {},
   "outputs": [
    {
     "name": "stdout",
     "output_type": "stream",
     "text": [
      "{'011111': 44, '010011': 1713, '101011': 34, '110101': 45, '000010': 2795, '110110': 28, '101010': 35, '000001': 1189, '010000': 1729, '001000': 42, '100110': 36, '111010': 27, '001111': 37, '001101': 37, '111100': 40, '100100': 45, '011101': 44, '001011': 32, '111110': 31, '100010': 34, '011000': 43, '101000': 31, '100111': 43, '010001': 35, '010010': 358, '011011': 40, '110011': 32, '000100': 34, '101101': 49, '001100': 33, '111101': 46, '100011': 47, '010101': 53, '000101': 44, '101110': 31, '110010': 29, '101001': 55, '111111': 34, '100001': 37, '001010': 35, '111000': 29, '011001': 36, '110100': 34, '000011': 19, '101100': 40, '101111': 38, '000110': 30, '110001': 59, '100000': 42, '111001': 46, '011110': 26, '110111': 35, '000000': 17, '001001': 52, '000111': 45, '110000': 38, '010111': 30, '100101': 35, '001110': 26, '111011': 38, '010110': 38, '011100': 40, '010100': 46, '011010': 35}\n",
      "The percentage of Grovers Algorithm Calls should be ~1/4, this simulation was sucessful on the order of 0.3442 of the oracle queries.\n"
     ]
    }
   ],
   "source": [
    "#######################\n",
    "#### Amplification ####\n",
    "#######################\n",
    "grovers_circ.h(0)\n",
    "grovers_circ.h(1)\n",
    "grovers_circ.h(2)\n",
    "grovers_circ.h(3)\n",
    "grovers_circ.x(0)\n",
    "grovers_circ.x(1)\n",
    "grovers_circ.x(2)\n",
    "grovers_circ.x(3)\n",
    "######## cccZ #########\n",
    "grovers_circ.cp(pi/4, 0, 3)\n",
    "grovers_circ.cx(0, 1)\n",
    "grovers_circ.cp(-pi/4, 1, 3)\n",
    "grovers_circ.cx(0, 1)\n",
    "grovers_circ.cp(pi/4, 1, 3)\n",
    "grovers_circ.cx(1, 2)\n",
    "grovers_circ.cp(-pi/4, 2, 3)\n",
    "grovers_circ.cx(0, 2)\n",
    "grovers_circ.cp(pi/4, 2, 3)\n",
    "grovers_circ.cx(1, 2)\n",
    "#APPENDIX A. QISKIT CODE 33\n",
    "grovers_circ.cp(-pi/4, 2, 3)\n",
    "grovers_circ.cx(0, 2)\n",
    "grovers_circ.cp(pi/4, 2, 3)\n",
    "####### end cccZ #######\n",
    "grovers_circ.x(0)\n",
    "grovers_circ.x(0)\n",
    "grovers_circ.x(2)\n",
    "grovers_circ.x(3)\n",
    "grovers_circ.h(0)\n",
    "grovers_circ.h(1)\n",
    "grovers_circ.h(2)\n",
    "grovers_circ.h(3)\n",
    "\n",
    "backend = Aer.get_backend('statevector_simulator')\n",
    "circ = grovers_circ.reverse_bits() #Key to reading the bits from q0->q3 rather than q3->q0\n",
    "circ.measure(range(num_qbits),range(num_qbits))\n",
    "job=execute(circ,backend,shots=10000)\n",
    "result=job.result()\n",
    "result = result.get_counts()\n",
    "print(result)\n",
    "count = 0\n",
    "for bit_string in result:\n",
    "    if(bit_string == '010011' or bit_string == '010000'):\n",
    "        count += result[bit_string]\n",
    "print(\"The percentage of Grovers Algorithm Calls should be ~1/4, this simulation was sucessful on the order of\", count/shots, \"of the oracle queries.\")"
   ]
  },
  {
   "cell_type": "markdown",
   "id": "f0e8cdd5",
   "metadata": {},
   "source": [
    "## Note: Using a quanutm computer where the last two qbits can be measured, the oracle can be called over and over would result in a higher probability. Aditionally, applying amplitude amplification over and over would have a positive effect on the result."
   ]
  },
  {
   "cell_type": "markdown",
   "id": "580ff371",
   "metadata": {},
   "source": [
    "## Aditional References:<br>\n",
    "Karlsson, V.B., & Strömberg, P. (2018). 4-qubit Grover's algorithm implemented for the ibmqx5 architecture."
   ]
  }
 ],
 "metadata": {
  "kernelspec": {
   "display_name": "Quiskit (stable)",
   "language": "python",
   "name": "quiskit-stable"
  },
  "language_info": {
   "codemirror_mode": {
    "name": "ipython",
    "version": 3
   },
   "file_extension": ".py",
   "mimetype": "text/x-python",
   "name": "python",
   "nbconvert_exporter": "python",
   "pygments_lexer": "ipython3",
   "version": "3.9.13"
  }
 },
 "nbformat": 4,
 "nbformat_minor": 5
}
