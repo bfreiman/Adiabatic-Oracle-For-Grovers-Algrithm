{
 "cells": [
  {
   "cell_type": "code",
   "execution_count": 2,
   "id": "6048d164",
   "metadata": {},
   "outputs": [
    {
     "data": {
      "text/plain": [
       "<qiskit.circuit.instructionset.InstructionSet at 0x1ca971aebe0>"
      ]
     },
     "execution_count": 2,
     "metadata": {},
     "output_type": "execute_result"
    }
   ],
   "source": [
    "import numpy as np\n",
    "from qiskit import *\n",
    "#This is the quanutm circuit with two bits of information\n",
    "backend = Aer.get_backend('statevector_simulator')\n",
    "circ = QuantumCircuit(4,4)\n",
    "\n",
    "#Prepare the second qbit in a superposition |0> + |1>\n",
    "initial_state = [0,1]\n",
    "circ.initialize(initial_state, 1)\n",
    "circ.h(1)\n",
    "#Project to the x+- states\n",
    "circ.h(2) #Hadamard Gate\n",
    "#0->1 state for 3rd qbit\n",
    "initial_state = [0,1]\n",
    "circ.initialize(initial_state, 3)\n",
    "circ.h(3) #Hadamard Gate\n",
    "\n",
    "T = 150 #Total Time\n",
    "n = 2000 #Iterations\n",
    "dt = T/n\n",
    "for t in range(n+1):\n",
    "    A = 1-t/T\n",
    "    B = t/T\n",
    "    \n",
    "    #Term attached to A(t)\n",
    "    evoloution_operator = QuantumCircuit(4,name='ABA')\n",
    "    evoloution_operator.rz(A*np.pi*dt,2)\n",
    "    evoloution_operator.rz(A*np.pi*dt,3)\n",
    "    evoloution_operator.rzz(A*np.pi*dt,0,2)\n",
    "    evoloution_operator.rzz(A*np.pi*dt,1,2)\n",
    "    evoloution_operator.rzz(A*np.pi*dt,0,3)\n",
    "    evoloution_operator.rzz(A*np.pi*dt,1,3)\n",
    "    \n",
    "    #Term attached to B(t)\n",
    "    evoloution_operator.rx(B*np.pi*2*dt,2)\n",
    "    evoloution_operator.rx(B*np.pi*2*dt,3)\n",
    "    \n",
    "    #Term attached to A(t)\n",
    "    evoloution_operator.rz(A*np.pi*dt,2)\n",
    "    evoloution_operator.rz(A*np.pi*dt,3)\n",
    "    evoloution_operator.rzz(A*np.pi*dt,0,2)\n",
    "    evoloution_operator.rzz(A*np.pi*dt,1,2)\n",
    "    evoloution_operator.rzz(A*np.pi*dt,0,3)\n",
    "    evoloution_operator.rzz(A*np.pi*dt,1,3)\n",
    "    \n",
    "    evoloution_operator.to_gate()\n",
    "    circ.append(evoloution_operator,[0,1,2,3])\n",
    "    if (t == 2000):\n",
    "        break\n",
    "#Project to the z01 states\n",
    "circ.h(1)\n",
    "circ.h(2) #Hadamard Gate\n",
    "circ.h(3) #Hadamard Gate\n",
    "#print(circ)"
   ]
  },
  {
   "cell_type": "code",
   "execution_count": null,
   "id": "e6ffcd81",
   "metadata": {},
   "outputs": [],
   "source": [
    "circ = circ.reverse_bits() #Key to reading the bits from q0->q3 rather than q3->q0\n",
    "circ.measure([0,1,2,3],[0,1,2,3])\n",
    "job=execute(circ,backend,shots=1000)\n",
    "result=job.result()\n",
    "result.get_counts()"
   ]
  }
 ],
 "metadata": {
  "kernelspec": {
   "display_name": "Quiskit (stable)",
   "language": "python",
   "name": "quiskit-stable"
  },
  "language_info": {
   "codemirror_mode": {
    "name": "ipython",
    "version": 3
   },
   "file_extension": ".py",
   "mimetype": "text/x-python",
   "name": "python",
   "nbconvert_exporter": "python",
   "pygments_lexer": "ipython3",
   "version": "3.9.13"
  }
 },
 "nbformat": 4,
 "nbformat_minor": 5
}
